{
 "cells": [
  {
   "cell_type": "code",
   "execution_count": 22,
   "id": "7a711fef",
   "metadata": {},
   "outputs": [],
   "source": [
    "import keras \n",
    "import pickle\n",
    "import numpy as np"
   ]
  },
  {
   "cell_type": "code",
   "execution_count": 3,
   "id": "2c2713a1",
   "metadata": {},
   "outputs": [
    {
     "name": "stderr",
     "output_type": "stream",
     "text": [
      "2021-11-22 11:08:45.788737: I tensorflow/core/platform/cpu_feature_guard.cc:142] This TensorFlow binary is optimized with oneAPI Deep Neural Network Library (oneDNN) to use the following CPU instructions in performance-critical operations:  AVX2 FMA\n",
      "To enable them in other operations, rebuild TensorFlow with the appropriate compiler flags.\n"
     ]
    }
   ],
   "source": [
    "model = keras.models.load_model(\"results/centralized-fgsm_cnn-1epochs\")"
   ]
  },
  {
   "cell_type": "code",
   "execution_count": 10,
   "id": "03231095",
   "metadata": {},
   "outputs": [],
   "source": [
    "# get the data\n",
    "with open('../data/demos/demos_centralized_data.pickle', 'rb') as handle:\n",
    "    data = pickle.load(handle)\n",
    "x_eval = data[\"evaluate\"][\"x_eval\"]\n",
    "y_eval = data[\"evaluate\"][\"y_eval\"]"
   ]
  },
  {
   "cell_type": "code",
   "execution_count": 19,
   "id": "b2e420ce",
   "metadata": {},
   "outputs": [],
   "source": [
    "predictions = model.predict(x_eval)"
   ]
  },
  {
   "cell_type": "code",
   "execution_count": 23,
   "id": "c5fb229c",
   "metadata": {},
   "outputs": [],
   "source": [
    "result = [np.argmax(t) == np.argmax(p) for t,p in zip(y_eval,predictions)]"
   ]
  },
  {
   "cell_type": "code",
   "execution_count": 25,
   "id": "9c6348fc",
   "metadata": {},
   "outputs": [],
   "source": [
    "acc = sum(result)/len(result)\n"
   ]
  },
  {
   "cell_type": "code",
   "execution_count": 26,
   "id": "923bba3f",
   "metadata": {},
   "outputs": [
    {
     "data": {
      "text/plain": [
       "0.18696581196581197"
      ]
     },
     "execution_count": 26,
     "metadata": {},
     "output_type": "execute_result"
    }
   ],
   "source": [
    "acc"
   ]
  },
  {
   "cell_type": "code",
   "execution_count": 27,
   "id": "503730ef",
   "metadata": {},
   "outputs": [
    {
     "name": "stdout",
     "output_type": "stream",
     "text": [
      "30/30 [==============================] - 4s 142ms/step - loss: 1.9319 - accuracy: 0.1870\n"
     ]
    }
   ],
   "source": [
    "eval = model.evaluate(x_eval,y_eval)"
   ]
  },
  {
   "cell_type": "code",
   "execution_count": 28,
   "id": "857a4a5e",
   "metadata": {},
   "outputs": [
    {
     "data": {
      "text/plain": [
       "[1.931944489479065, 0.18696580827236176]"
      ]
     },
     "execution_count": 28,
     "metadata": {},
     "output_type": "execute_result"
    }
   ],
   "source": [
    "eval"
   ]
  },
  {
   "cell_type": "code",
   "execution_count": null,
   "id": "4c434e56",
   "metadata": {},
   "outputs": [],
   "source": []
  }
 ],
 "metadata": {
  "kernelspec": {
   "display_name": "Python [conda env:py38] *",
   "language": "python",
   "name": "conda-env-py38-py"
  },
  "language_info": {
   "codemirror_mode": {
    "name": "ipython",
    "version": 3
   },
   "file_extension": ".py",
   "mimetype": "text/x-python",
   "name": "python",
   "nbconvert_exporter": "python",
   "pygments_lexer": "ipython3",
   "version": "3.8.10"
  }
 },
 "nbformat": 4,
 "nbformat_minor": 5
}
