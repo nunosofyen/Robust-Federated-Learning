{
 "cells": [
  {
   "cell_type": "code",
   "execution_count": 7,
   "id": "dcf81660",
   "metadata": {},
   "outputs": [],
   "source": [
    "from tensorflow import keras\n",
    "import pickle\n",
    "import numpy as np\n",
    "import sys\n",
    "import os\n",
    "from sklearn.metrics import recall_score, confusion_matrix, roc_auc_score, accuracy_score"
   ]
  },
  {
   "cell_type": "code",
   "execution_count": 37,
   "id": "5f8ff65a",
   "metadata": {},
   "outputs": [],
   "source": [
    "def uar_score(truth, pred):\n",
    "    truth = truth.argmax(axis=1)\n",
    "    pred = pred.argmax(axis=1)\n",
    "    uar = recall_score(truth, pred, average='macro')\n",
    "    return uar"
   ]
  },
  {
   "cell_type": "code",
   "execution_count": 27,
   "id": "b0791ba6",
   "metadata": {},
   "outputs": [],
   "source": [
    "with open('data/demos/demos_68clients_data.pickle', 'rb') as handle:\n",
    "                data = pickle.load(handle)"
   ]
  },
  {
   "cell_type": "code",
   "execution_count": 28,
   "id": "1759ae24",
   "metadata": {},
   "outputs": [],
   "source": [
    "x_eval = data[\"x_eval\"]\n",
    "y_eval = data[\"y_eval\"]"
   ]
  },
  {
   "cell_type": "code",
   "execution_count": null,
   "id": "355f2110",
   "metadata": {},
   "outputs": [],
   "source": [
    "\n",
    "# col: [1, 0, 0, 0, 0, 0, 0]\n",
    "# dis : [0, 1, 0, 0, 0, 0, 0]\n",
    "# gio : [0, 0, 1, 0, 0, 0, 0]\n",
    "# pau: [0, 0, 0, 1, 0, 0, 0]\n",
    "# rab : [0, 0, 0, 0, 1, 0, 0]\n",
    "# sor: [0, 0, 0, 0, 0, 1, 0]\n",
    "# tri : [0, 0, 0, 0, 0, 0, 1]"
   ]
  },
  {
   "cell_type": "code",
   "execution_count": 47,
   "id": "8a990ad7",
   "metadata": {},
   "outputs": [
    {
     "name": "stdout",
     "output_type": "stream",
     "text": [
      "round10 uar: 0.14285714285714285\n",
      "round20 uar: 0.15085213979771803\n",
      "round30 uar: 0.3284575096255028\n",
      "round40 uar: 0.45868663437348234\n",
      "round50 uar: 0.5563418360819391\n",
      "round60 uar: 0.6568838999097911\n",
      "round70 uar: 0.7774401638169455\n",
      "round80 uar: 0.7715881764589588\n",
      "round90 uar: 0.8297485536381837\n",
      "round100 uar: 0.850568983016035\n",
      "round110 uar: 0.8440038210512811\n",
      "round120 uar: 0.8744045798639827\n",
      "round130 uar: 0.8834188268758156\n",
      "round140 uar: 0.8925525079158181\n",
      "round150 uar: 0.8921671649652765\n",
      "round160 uar: 0.8746137089775081\n",
      "round170 uar: 0.8925327019364875\n",
      "round180 uar: 0.9050961648693949\n",
      "round190 uar: 0.9069414414263717\n",
      "round200 uar: 0.9105499814873544\n",
      "round210 uar: 0.907896942287781\n",
      "round220 uar: 0.9169543765774718\n",
      "round230 uar: 0.915891774334048\n",
      "round240 uar: 0.9161692649102251\n",
      "round250 uar: 0.9107965108412281\n",
      "round260 uar: 0.9115859334627647\n",
      "round270 uar: 0.9264074819812754\n",
      "round280 uar: 0.9144642811179887\n",
      "round290 uar: 0.9210545386641743\n",
      "round300 uar: 0.9128485447081613\n"
     ]
    }
   ],
   "source": [
    "uar_scores = []\n",
    "for rnd in range(10,310,10):\n",
    "    MODEL_PATH = f\"results/demos-adv-pgd-vgg16-{rnd}rounds-68clients-1epochs\"\n",
    "    model = keras.models.load_model(MODEL_PATH)\n",
    "    predictions = model.predict(x_eval)\n",
    "    uar = uar_score(y_eval,predictions)\n",
    "    uar_scores.append(uar)\n",
    "    print(f\"round{rnd} uar: {uar}\")"
   ]
  },
  {
   "cell_type": "code",
   "execution_count": 48,
   "id": "b251c006",
   "metadata": {},
   "outputs": [
    {
     "data": {
      "text/plain": [
       "[0.14285714285714285,\n",
       " 0.15085213979771803,\n",
       " 0.3284575096255028,\n",
       " 0.45868663437348234,\n",
       " 0.5563418360819391,\n",
       " 0.6568838999097911,\n",
       " 0.7774401638169455,\n",
       " 0.7715881764589588,\n",
       " 0.8297485536381837,\n",
       " 0.850568983016035,\n",
       " 0.8440038210512811,\n",
       " 0.8744045798639827,\n",
       " 0.8834188268758156,\n",
       " 0.8925525079158181,\n",
       " 0.8921671649652765,\n",
       " 0.8746137089775081,\n",
       " 0.8925327019364875,\n",
       " 0.9050961648693949,\n",
       " 0.9069414414263717,\n",
       " 0.9105499814873544,\n",
       " 0.907896942287781,\n",
       " 0.9169543765774718,\n",
       " 0.915891774334048,\n",
       " 0.9161692649102251,\n",
       " 0.9107965108412281,\n",
       " 0.9115859334627647,\n",
       " 0.9264074819812754,\n",
       " 0.9144642811179887,\n",
       " 0.9210545386641743,\n",
       " 0.9128485447081613]"
      ]
     },
     "execution_count": 48,
     "metadata": {},
     "output_type": "execute_result"
    }
   ],
   "source": [
    "uar_scores"
   ]
  },
  {
   "cell_type": "code",
   "execution_count": 30,
   "id": "7f124c5d",
   "metadata": {},
   "outputs": [],
   "source": [
    "truth = y_eval.argmax(axis=1)\n",
    "pred = predictions.argmax(axis=1)"
   ]
  },
  {
   "cell_type": "code",
   "execution_count": 31,
   "id": "3ad37cb3",
   "metadata": {},
   "outputs": [],
   "source": [
    "uar = recall_score(truth, pred, average='macro')"
   ]
  },
  {
   "cell_type": "code",
   "execution_count": 32,
   "id": "f51f122d",
   "metadata": {},
   "outputs": [
    {
     "data": {
      "text/plain": [
       "0.8597506610305096"
      ]
     },
     "execution_count": 32,
     "metadata": {},
     "output_type": "execute_result"
    }
   ],
   "source": [
    "uar"
   ]
  },
  {
   "cell_type": "code",
   "execution_count": 34,
   "id": "28bc85aa",
   "metadata": {},
   "outputs": [],
   "source": [
    "#uar = recall_score(truth, pred, average='macro')\n",
    "#acc = accuracy_score(truth, pred)\n",
    "confusion_mat = confusion_matrix(truth, pred, labels=list(range(7)))"
   ]
  },
  {
   "cell_type": "code",
   "execution_count": 21,
   "id": "62c69d09",
   "metadata": {},
   "outputs": [],
   "source": [
    "result = [np.argmax(t) == np.argmax(p) for t, p in zip(y_eval, predictions)]\n",
    "acc = sum(result)/len(result)\n",
    "print(acc)"
   ]
  },
  {
   "cell_type": "code",
   "execution_count": 24,
   "id": "28541714",
   "metadata": {},
   "outputs": [
    {
     "data": {
      "text/plain": [
       "79"
      ]
     },
     "execution_count": 24,
     "metadata": {},
     "output_type": "execute_result"
    }
   ],
   "source": [
    "sum(result)"
   ]
  },
  {
   "cell_type": "code",
   "execution_count": 25,
   "id": "e886fde8",
   "metadata": {},
   "outputs": [
    {
     "data": {
      "text/plain": [
       "553"
      ]
     },
     "execution_count": 25,
     "metadata": {},
     "output_type": "execute_result"
    }
   ],
   "source": [
    "len(result)"
   ]
  },
  {
   "cell_type": "code",
   "execution_count": 26,
   "id": "828cc978",
   "metadata": {},
   "outputs": [
    {
     "name": "stdout",
     "output_type": "stream",
     "text": [
      "0.14285714285714285\n"
     ]
    }
   ],
   "source": []
  },
  {
   "cell_type": "code",
   "execution_count": 10,
   "id": "7ccd8b41",
   "metadata": {
    "scrolled": false
   },
   "outputs": [
    {
     "name": "stdout",
     "output_type": "stream",
     "text": [
      "epoch 10 accuracy: 0.546112115732369\n",
      "epoch 20 accuracy: 0.5768535262206148\n",
      "epoch 30 accuracy: 0.593128390596745\n",
      "epoch 40 accuracy: 0.5877034358047016\n",
      "epoch 50 accuracy: 0.6003616636528029\n",
      "epoch 60 accuracy: 0.6220614828209765\n",
      "epoch 70 accuracy: 0.6329113924050633\n",
      "epoch 80 accuracy: 0.6600361663652803\n",
      "epoch 90 accuracy: 0.6365280289330922\n",
      "epoch 100 accuracy: 0.6455696202531646\n",
      "epoch 110 accuracy: 0.6419529837251357\n",
      "epoch 120 accuracy: 0.6347197106690777\n",
      "epoch 130 accuracy: 0.6401446654611211\n",
      "epoch 140 accuracy: 0.6419529837251357\n",
      "epoch 150 accuracy: 0.64376130198915\n",
      "epoch 160 accuracy: 0.6473779385171791\n",
      "epoch 170 accuracy: 0.6455696202531646\n",
      "epoch 180 accuracy: 0.6473779385171791\n",
      "epoch 190 accuracy: 0.6473779385171791\n",
      "epoch 200 accuracy: 0.6491862567811935\n",
      "epoch 210 accuracy: 0.6473779385171791\n",
      "epoch 220 accuracy: 0.6546112115732369\n",
      "epoch 230 accuracy: 0.650994575045208\n",
      "epoch 240 accuracy: 0.6546112115732369\n",
      "epoch 250 accuracy: 0.6491862567811935\n",
      "epoch 260 accuracy: 0.6528028933092225\n",
      "epoch 270 accuracy: 0.6491862567811935\n",
      "epoch 280 accuracy: 0.6491862567811935\n",
      "epoch 290 accuracy: 0.650994575045208\n",
      "epoch 300 accuracy: 0.6473779385171791\n"
     ]
    }
   ],
   "source": [
    "for round in range(10,310,10):\n",
    "    MODEL_PATH = f\"results/iemocap-resnet-cosine_lr-{round}rounds-10clients-1epochs.h5\"\n",
    "    model = keras.models.load_model(MODEL_PATH)\n",
    "    predictions = model.predict(x_eval)\n",
    "    result = [np.argmax(t) == np.argmax(p) for t, p in zip(y_eval, predictions)]\n",
    "    acc = sum(result)/len(result)\n",
    "    print(f\"epoch {round} accuracy: {acc}\")\n"
   ]
  },
  {
   "cell_type": "code",
   "execution_count": null,
   "id": "9635ed6e",
   "metadata": {},
   "outputs": [],
   "source": []
  },
  {
   "cell_type": "code",
   "execution_count": null,
   "id": "908a2fb5",
   "metadata": {},
   "outputs": [],
   "source": []
  },
  {
   "cell_type": "code",
   "execution_count": null,
   "id": "c7867b31",
   "metadata": {},
   "outputs": [],
   "source": []
  },
  {
   "cell_type": "code",
   "execution_count": null,
   "id": "63a4a6b5",
   "metadata": {},
   "outputs": [],
   "source": []
  },
  {
   "cell_type": "code",
   "execution_count": null,
   "id": "dace644c",
   "metadata": {},
   "outputs": [],
   "source": []
  },
  {
   "cell_type": "code",
   "execution_count": 10,
   "id": "a0b74ac3",
   "metadata": {},
   "outputs": [],
   "source": [
    "rounds = [10,20,30,40,50,60,70,80,90,100,110,120,130,140,150,160,170,180,190,200,210,220,230,240,250,260,270,280,290,300]"
   ]
  },
  {
   "cell_type": "code",
   "execution_count": 14,
   "id": "9c7d3dff",
   "metadata": {},
   "outputs": [
    {
     "name": "stdout",
     "output_type": "stream",
     "text": [
      "Round 10: 0.11953041622198506\n",
      "Round 20: 0.20811099252934898\n",
      "Round 30: 0.48025613660619\n",
      "Round 40: 0.5944503735325507\n",
      "Round 50: 0.6808964781216649\n",
      "Round 60: 0.7406616862326574\n",
      "Round 70: 0.7886872998932765\n",
      "Round 80: 0.847385272145144\n",
      "Round 90: 0.8665955176093917\n",
      "Round 100: 0.87940234791889\n",
      "Round 110: 0.8911419423692636\n",
      "Round 120: 0.8954108858057631\n",
      "Round 130: 0.8975453575240128\n",
      "Round 140: 0.8996798292422625\n",
      "Round 150: 0.8900747065101388\n",
      "Round 160: 0.9028815368196371\n",
      "Round 170: 0.9103521878335112\n",
      "Round 180: 0.9135538954108858\n",
      "Round 190: 0.9028815368196371\n",
      "Round 200: 0.9092849519743863\n",
      "Round 210: 0.9050160085378869\n",
      "Round 220: 0.9124866595517609\n",
      "Round 230: 0.9188900747065102\n",
      "Round 240: 0.9178228388473852\n",
      "Round 250: 0.9124866595517609\n",
      "Round 260: 0.9167556029882604\n",
      "Round 270: 0.9092849519743863\n",
      "Round 280: 0.9135538954108858\n",
      "Round 290: 0.9103521878335112\n",
      "Round 300: 0.9178228388473852\n"
     ]
    }
   ],
   "source": [
    "accuracies = []\n",
    "for rnd in rounds:\n",
    "    MODEL_PATH = f\"results/demos-adv-fgsm-vgg16-{rnd}rounds-68clients-1epochs\"\n",
    "    model = keras.models.load_model(MODEL_PATH)\n",
    "    predictions = model.predict(x_eval)\n",
    "    result = [np.argmax(t) == np.argmax(p) for t, p in zip(y_eval, predictions)]\n",
    "    acc = sum(result)/len(result)\n",
    "    print(f\"Round {rnd}: {acc}\")\n",
    "    accuracies.append(acc)"
   ]
  },
  {
   "cell_type": "code",
   "execution_count": 15,
   "id": "b0a2f3f9",
   "metadata": {},
   "outputs": [
    {
     "data": {
      "text/plain": [
       "[0.11953041622198506,\n",
       " 0.20811099252934898,\n",
       " 0.48025613660619,\n",
       " 0.5944503735325507,\n",
       " 0.6808964781216649,\n",
       " 0.7406616862326574,\n",
       " 0.7886872998932765,\n",
       " 0.847385272145144,\n",
       " 0.8665955176093917,\n",
       " 0.87940234791889,\n",
       " 0.8911419423692636,\n",
       " 0.8954108858057631,\n",
       " 0.8975453575240128,\n",
       " 0.8996798292422625,\n",
       " 0.8900747065101388,\n",
       " 0.9028815368196371,\n",
       " 0.9103521878335112,\n",
       " 0.9135538954108858,\n",
       " 0.9028815368196371,\n",
       " 0.9092849519743863,\n",
       " 0.9050160085378869,\n",
       " 0.9124866595517609,\n",
       " 0.9188900747065102,\n",
       " 0.9178228388473852,\n",
       " 0.9124866595517609,\n",
       " 0.9167556029882604,\n",
       " 0.9092849519743863,\n",
       " 0.9135538954108858,\n",
       " 0.9103521878335112,\n",
       " 0.9178228388473852]"
      ]
     },
     "execution_count": 15,
     "metadata": {},
     "output_type": "execute_result"
    }
   ],
   "source": [
    "accuracies"
   ]
  },
  {
   "cell_type": "code",
   "execution_count": null,
   "id": "29b56c98",
   "metadata": {},
   "outputs": [],
   "source": [
    "normal_vgg_68clients_accuracies = [\n",
    "    0.16627077758312225,\n",
    "    0.16627077758312225,\n",
    "    0.16627077758312225,\n",
    "    0.17339667677879333,\n",
    "    0.47980996966362,\n",
    "    0.6116389632225037,\n",
    "    0.7232779264450073,\n",
    "    0.646080732345581,\n",
    "    0.8171021342277527,\n",
    "    0.7387173175811768,\n",
    "    0.7422803044319153,\n",
    "    0.7921615242958069,\n",
    "    0.8456056714057922,\n",
    "    0.7957244515419006,\n",
    "    0.7636579275131226,\n",
    "    0.8467933535575867,\n",
    "    0.8467933535575867,\n",
    "    0.8230403661727905,\n",
    "    0.8076009750366211,\n",
    "    0.8741092681884766,\n",
    "    0.826603353023529,\n",
    "    0.8598574995994568,\n",
    "    0.8657957315444946,\n",
    "    0.8586698174476624,\n",
    "    0.8717339634895325,\n",
    "    0.8871734142303467,\n",
    "    0.8551068902015686,\n",
    "    0.8622328042984009,\n",
    "    0.8871734142303467,\n",
    "    0.8717339634895325\n",
    "]"
   ]
  },
  {
   "cell_type": "code",
   "execution_count": null,
   "id": "7723b91f",
   "metadata": {},
   "outputs": [],
   "source": [
    "adv_vgg_68clients_predictions"
   ]
  },
  {
   "cell_type": "code",
   "execution_count": null,
   "id": "ed9a5a22",
   "metadata": {},
   "outputs": [],
   "source": []
  },
  {
   "cell_type": "code",
   "execution_count": null,
   "id": "07f63f26",
   "metadata": {},
   "outputs": [],
   "source": []
  }
 ],
 "metadata": {
  "kernelspec": {
   "display_name": "Python 3",
   "language": "python",
   "name": "python3"
  },
  "language_info": {
   "codemirror_mode": {
    "name": "ipython",
    "version": 3
   },
   "file_extension": ".py",
   "mimetype": "text/x-python",
   "name": "python",
   "nbconvert_exporter": "python",
   "pygments_lexer": "ipython3",
   "version": "3.8.8"
  }
 },
 "nbformat": 4,
 "nbformat_minor": 5
}
