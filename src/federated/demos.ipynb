{
 "cells": [
  {
   "cell_type": "code",
   "execution_count": null,
   "metadata": {},
   "outputs": [],
   "source": [
    "import h5py\n",
    "import numpy as np\n",
    "import pandas as pd\n",
    "from sklearn.preprocessing import LabelBinarizer,OneHotEncoder\n",
    "import pickle \n",
    "\n",
    "PATH_TO_HDF5_FILE = \"./data/demos/logmel_demos.hdf5\"\n",
    "\n",
    "def scale_minmax(X, min=0.0, max=1.0):\n",
    "    X_std = (X - X.min()) / (X.max() - X.min())\n",
    "    X_scaled = X_std * (max - min) + min\n",
    "    return X_scaled\n",
    "\n",
    "with h5py.File(PATH_TO_HDF5_FILE, \"r\") as f:\n",
    "    a_group_key = list(f.keys())\n",
    "    data = pd.DataFrame()\n",
    "    for key in a_group_key:\n",
    "        data[key] = np.array(f[key]).tolist()\n",
    "\n",
    "for column in data.columns:\n",
    "    if(column != 'logmel'):\n",
    "       data[column] = data[column].apply(lambda x: x.decode('UTF-8'))\n",
    "\n",
    "speakerIDs = [22, 57, 1, 36, 55, 18, 6, 33, 23, 25, 68, 51, 7, 50, 54, 48, 49, 47, 43, 40, 17, 60, 21, 63, 4, 26, 9, 32,\n",
    "                 42, 53, 58, 11, 2, 14, 20, 34, 62, 65, 13, 39, 19,56, 37, 44, 29, 45, 38, 31, 46, 61, 41, 27,52, 12, 64,\n",
    "                30, 15, 10, 28, 24, 69, 8, 16,59, 5, 3, 66, 67]\n",
    "\n",
    "\n"
   ]
  },
  {
   "cell_type": "code",
   "execution_count": null,
   "metadata": {},
   "outputs": [],
   "source": [
    "for column in data.columns:\n",
    "    if(column != 'logmel'):\n",
    "        data[column] = data[column].apply(lambda x: x.decode('UTF-8'))"
   ]
  },
  {
   "cell_type": "code",
   "execution_count": null,
   "metadata": {},
   "outputs": [],
   "source": [
    "import math\n",
    "split_index = math.floor(data.shape[0]*1/10)\n",
    "evaluationData = data[:split_index]\n",
    "data = data[split_index:]\n",
    "#check for class distribution\n",
    "#dist_ = evaluationData['emotion'].value_counts()\n",
    "#print(dist_)\n",
    "#evaluationData = data[split_index:]\n",
    "#print(dist_end)"
   ]
  },
  {
   "cell_type": "code",
   "execution_count": null,
   "metadata": {},
   "outputs": [],
   "source": [
    "data['speaker_id'].value_counts()"
   ]
  },
  {
   "cell_type": "code",
   "execution_count": null,
   "metadata": {},
   "outputs": [],
   "source": [
    "speakerIDs = [22, 57, 1, 36, 55, 18, 6, 33, 23, 25, 68, 51, 7, 50, 54, 48, 49, 47, 43, 40, 17, 60, 21, 63, 4, 26, 9, 32,\n",
    "                 42, 53, 58, 11, 2, 14, 20, 34, 62, 65, 13, 39, 19,56, 37, 44, 29, 45, 38, 31, 46, 61, 41, 27,52, 12, 64,\n",
    "                30, 15, 10, 28, 24, 69, 8, 16,59, 5, 3, 66, 67]"
   ]
  },
  {
   "cell_type": "code",
   "execution_count": null,
   "metadata": {},
   "outputs": [],
   "source": [
    "#clean evaluation data\n",
    "dataDict = {}\n",
    "x_eval = evaluationData.logmel\n",
    "x_eval = np.array([x for x in x_eval.values  ])\n",
    "x_eval = scale_minmax(x_eval)\n",
    "x_eval = x_eval[:,:,:,np.newaxis]\n",
    "y_eval = evaluationData.emotion\n",
    "y_eval = np.array([x for x in y_eval.values  ])\n",
    "dataDict[\"x_eval\"] = x_eval\n",
    "dataDict[\"y_eval\"] = y_eval"
   ]
  },
  {
   "cell_type": "code",
   "execution_count": null,
   "metadata": {},
   "outputs": [],
   "source": [
    "import math\n",
    "n_clients = 68\n",
    "groups = np.array(np.array_split(speakerIDs,n_clients))\n",
    "groups = np.array([v for v in groups ])\n",
    "i=1\n",
    "for group in groups:\n",
    "    x_train = np.array([])\n",
    "    y_train = np.array([])\n",
    "    for speakerID in group:\n",
    "        train_data = data[data[\"speaker_id\"]==speakerID]\n",
    "        #_train\n",
    "        print(_x_train)\n",
    "        _x_train = train_data.logmel\n",
    "        _x_train = np.array([v for v in _x_train.values ])\n",
    "        _x_train = scale_minmax(_x_train)\n",
    "        _x_train = _x_train[:,:,:,np.newaxis]\n",
    "        _y_train = train_data.emotion\n",
    "        _y_train = np.array([v for v in _y_train.values ])\n",
    "        if  (x_train.size == 0):\n",
    "            x_train = _x_train\n",
    "            y_train = _y_train\n",
    "        else:\n",
    "            x_train = np.concatenate((x_train, _x_train), axis=0)\n",
    "            y_train = np.concatenate((y_train, _y_train), axis=0)\n",
    "    dataDict[f\"client_{i}\"] = {\n",
    "        \"x_train\": x_train,\n",
    "        \"y_train\": y_train,\n",
    "    }\n",
    "    i = i+1\n"
   ]
  },
  {
   "cell_type": "code",
   "execution_count": null,
   "metadata": {},
   "outputs": [],
   "source": [
    "with open(f\"demos_{n_clients}clients_data.pickle\", \"wb\") as handle:\n",
    "    pickle.dump(dataDict, handle, protocol=pickle.HIGHEST_PROTOCOL)"
   ]
  },
  {
   "cell_type": "code",
   "execution_count": null,
   "metadata": {},
   "outputs": [],
   "source": [
    "evaluationData['emotion'].value_counts()"
   ]
  }
 ],
 "metadata": {
  "language_info": {
   "name": "plaintext"
  },
  "orig_nbformat": 4
 },
 "nbformat": 4,
 "nbformat_minor": 2
}
